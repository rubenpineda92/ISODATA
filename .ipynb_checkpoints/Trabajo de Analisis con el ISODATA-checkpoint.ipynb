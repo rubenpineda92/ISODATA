{
 "cells": [
  {
   "cell_type": "code",
   "execution_count": null,
   "metadata": {
    "collapsed": true
   },
   "outputs": [],
   "source": [
    "En este trabajo se va a analizar un conjunto de datos los cuales son datos tomados de Kaggle.com sobre registros de ventas\n",
    "en la cadena de supermercados de Walmart.\n",
    "Es importante analizar este tipo de datos para comprender el comportamiento del mercado en establecimientos tan importantes\n",
    "como lo son los supermercados los cuales son parte fundamental del dia a dia de los consumidores en cualquier parte del mundo.\n",
    "\n",
    "Para este ejercicio se tomo una base de datos con registros de 45 Walmarts de distintas regiones de estados unidos de las cuales\n",
    "cada una tiene distintos departamentos. En la base de datos se toma en cuenta las temporadas fuertes de ventas como lo son \n",
    "el Super Bowl, el Dia del Trabajo, Dia de Gracias y Navidad.\n",
    "\n",
    "\n"
   ]
  },
  {
   "cell_type": "code",
   "execution_count": 34,
   "metadata": {
    "collapsed": false
   },
   "outputs": [
    {
     "name": "stdout",
     "output_type": "stream",
     "text": [
      "               Store           Dept   Weekly_Sales      IsHoliday\n",
      "count  421570.000000  421570.000000  421570.000000  421570.000000\n",
      "mean       22.200546      44.260317   15981.258123       0.070358\n",
      "std        12.785297      30.492054   22711.183519       0.255750\n",
      "min         1.000000       1.000000   -4988.940000       0.000000\n",
      "25%        11.000000      18.000000    2079.650000       0.000000\n",
      "50%        22.000000      37.000000    7612.030000       0.000000\n",
      "75%        33.000000      74.000000   20205.852500       0.000000\n",
      "max        45.000000      99.000000  693099.360000       1.000000 \n",
      "\n"
     ]
    }
   ],
   "source": [
    "import numpy as np\n",
    "import pandas as pd\n",
    "import os\n",
    "\n",
    "os.chdir('C:/Users/RubenDario/Documents/Reconocimiento de Patrones/Untitled Folder')\n",
    "\n",
    "df = pd.read_csv(\"train.csv\")\n",
    "\n",
    "print(df.describe(), '\\n')\n",
    "\n"
   ]
  },
  {
   "cell_type": "code",
   "execution_count": null,
   "metadata": {
    "collapsed": true
   },
   "outputs": [],
   "source": [
    "Podemos observar que son alrededor de 42,000 registros en los cuales no hay valores faltantes.\n",
    "En la columna de Weekly Sales el valor minimos es un valor negativo, seguramente es un dato erroneo, entrando a analizar\n",
    "los datos de esta columna me encontre con una variacion muy grande derrepente me encontraba con valores de 40 y otros de 40,000.\n",
    "Por eso tiene una desviacion standar tan grande."
   ]
  },
  {
   "cell_type": "code",
   "execution_count": 25,
   "metadata": {
    "collapsed": false
   },
   "outputs": [
    {
     "name": "stdout",
     "output_type": "stream",
     "text": [
      "        Store  Dept        Date  Weekly_Sales  IsHoliday\n",
      "0           1     1  05/02/2010      24924.50          0\n",
      "1           1     1  12/02/2010      46039.49          1\n",
      "2           1     1  19/02/2010      41595.55          0\n",
      "3           1     1  26/02/2010      19403.54          0\n",
      "4           1     1  05/03/2010      21827.90          0\n",
      "5           1     1  12/03/2010      21043.39          0\n",
      "6           1     1  19/03/2010      22136.64          0\n",
      "7           1     1  26/03/2010      26229.21          0\n",
      "8           1     1  02/04/2010      57258.43          0\n",
      "9           1     1  09/04/2010      42960.91          0\n",
      "10          1     1  16/04/2010      17596.96          0\n",
      "11          1     1  23/04/2010      16145.35          0\n",
      "12          1     1  30/04/2010      16555.11          0\n",
      "13          1     1  07/05/2010      17413.94          0\n",
      "14          1     1  14/05/2010      18926.74          0\n",
      "15          1     1  21/05/2010      14773.04          0\n",
      "16          1     1  28/05/2010      15580.43          0\n",
      "17          1     1  04/06/2010      17558.09          0\n",
      "18          1     1  11/06/2010      16637.62          0\n",
      "19          1     1  18/06/2010      16216.27          0\n",
      "20          1     1  25/06/2010      16328.72          0\n",
      "21          1     1  02/07/2010      16333.14          0\n",
      "22          1     1  09/07/2010      17688.76          0\n",
      "23          1     1  16/07/2010      17150.84          0\n",
      "24          1     1  23/07/2010      15360.45          0\n",
      "25          1     1  30/07/2010      15381.82          0\n",
      "26          1     1  06/08/2010      17508.41          0\n",
      "27          1     1  13/08/2010      15536.40          0\n",
      "28          1     1  20/08/2010      15740.13          0\n",
      "29          1     1  27/08/2010      15793.87          0\n",
      "...       ...   ...         ...           ...        ...\n",
      "421540     45    98  06/04/2012        778.70          0\n",
      "421541     45    98  13/04/2012        559.14          0\n",
      "421542     45    98  20/04/2012        605.80          0\n",
      "421543     45    98  27/04/2012        619.41          0\n",
      "421544     45    98  04/05/2012        694.25          0\n",
      "421545     45    98  11/05/2012        893.60          0\n",
      "421546     45    98  18/05/2012        745.44          0\n",
      "421547     45    98  25/05/2012        795.94          0\n",
      "421548     45    98  01/06/2012        874.64          0\n",
      "421549     45    98  08/06/2012        713.50          0\n",
      "421550     45    98  15/06/2012        856.35          0\n",
      "421551     45    98  22/06/2012        622.62          0\n",
      "421552     45    98  29/06/2012        690.52          0\n",
      "421553     45    98  06/07/2012        659.65          0\n",
      "421554     45    98  13/07/2012        695.21          0\n",
      "421555     45    98  20/07/2012        845.30          0\n",
      "421556     45    98  27/07/2012        657.63          0\n",
      "421557     45    98  03/08/2012        516.46          0\n",
      "421558     45    98  10/08/2012        727.49          0\n",
      "421559     45    98  17/08/2012        500.16          0\n",
      "421560     45    98  24/08/2012        415.40          0\n",
      "421561     45    98  31/08/2012        346.04          0\n",
      "421562     45    98  07/09/2012        352.44          1\n",
      "421563     45    98  14/09/2012        605.96          0\n",
      "421564     45    98  21/09/2012        467.30          0\n",
      "421565     45    98  28/09/2012        508.37          0\n",
      "421566     45    98  05/10/2012        628.10          0\n",
      "421567     45    98  12/10/2012       1061.02          0\n",
      "421568     45    98  19/10/2012        760.01          0\n",
      "421569     45    98  26/10/2012       1076.80          0\n",
      "\n",
      "[421570 rows x 5 columns]\n"
     ]
    }
   ],
   "source": [
    "print(df)"
   ]
  },
  {
   "cell_type": "code",
   "execution_count": null,
   "metadata": {
    "collapsed": true
   },
   "outputs": [],
   "source": [
    "Podemos observar que trae los campos:\n",
    "    Store: el cual es el numero de tienda va de 1 a 45\n",
    "    Dept: El departamento de cada tienda.\n",
    "    Date: La semana en la que se tomaron los datos, este dato lo voy a eliminar por el momento porque no estoy seguro\n",
    "        de como trabajar con lineas de tiempo.\n",
    "    Weekly Sales: Las ventas que genero el departamento en dicha tienda.\n",
    "    Holiday: Si esa semana estuvo  en las fechas de ventas altas."
   ]
  },
  {
   "cell_type": "code",
   "execution_count": 35,
   "metadata": {
    "collapsed": false
   },
   "outputs": [
    {
     "data": {
      "text/html": [
       "<div>\n",
       "<table border=\"1\" class=\"dataframe\">\n",
       "  <thead>\n",
       "    <tr style=\"text-align: right;\">\n",
       "      <th></th>\n",
       "      <th>Store</th>\n",
       "      <th>Dept</th>\n",
       "      <th>Weekly_Sales</th>\n",
       "      <th>IsHoliday</th>\n",
       "    </tr>\n",
       "  </thead>\n",
       "  <tbody>\n",
       "    <tr>\n",
       "      <th>count</th>\n",
       "      <td>421570.000000</td>\n",
       "      <td>421570.000000</td>\n",
       "      <td>421570.000000</td>\n",
       "      <td>421570.000000</td>\n",
       "    </tr>\n",
       "    <tr>\n",
       "      <th>mean</th>\n",
       "      <td>22.200546</td>\n",
       "      <td>44.260317</td>\n",
       "      <td>15981.258123</td>\n",
       "      <td>0.070358</td>\n",
       "    </tr>\n",
       "    <tr>\n",
       "      <th>std</th>\n",
       "      <td>12.785297</td>\n",
       "      <td>30.492054</td>\n",
       "      <td>22711.183519</td>\n",
       "      <td>0.255750</td>\n",
       "    </tr>\n",
       "    <tr>\n",
       "      <th>min</th>\n",
       "      <td>1.000000</td>\n",
       "      <td>1.000000</td>\n",
       "      <td>-4988.940000</td>\n",
       "      <td>0.000000</td>\n",
       "    </tr>\n",
       "    <tr>\n",
       "      <th>25%</th>\n",
       "      <td>11.000000</td>\n",
       "      <td>18.000000</td>\n",
       "      <td>2079.650000</td>\n",
       "      <td>0.000000</td>\n",
       "    </tr>\n",
       "    <tr>\n",
       "      <th>50%</th>\n",
       "      <td>22.000000</td>\n",
       "      <td>37.000000</td>\n",
       "      <td>7612.030000</td>\n",
       "      <td>0.000000</td>\n",
       "    </tr>\n",
       "    <tr>\n",
       "      <th>75%</th>\n",
       "      <td>33.000000</td>\n",
       "      <td>74.000000</td>\n",
       "      <td>20205.852500</td>\n",
       "      <td>0.000000</td>\n",
       "    </tr>\n",
       "    <tr>\n",
       "      <th>max</th>\n",
       "      <td>45.000000</td>\n",
       "      <td>99.000000</td>\n",
       "      <td>693099.360000</td>\n",
       "      <td>1.000000</td>\n",
       "    </tr>\n",
       "  </tbody>\n",
       "</table>\n",
       "</div>"
      ],
      "text/plain": [
       "               Store           Dept   Weekly_Sales      IsHoliday\n",
       "count  421570.000000  421570.000000  421570.000000  421570.000000\n",
       "mean       22.200546      44.260317   15981.258123       0.070358\n",
       "std        12.785297      30.492054   22711.183519       0.255750\n",
       "min         1.000000       1.000000   -4988.940000       0.000000\n",
       "25%        11.000000      18.000000    2079.650000       0.000000\n",
       "50%        22.000000      37.000000    7612.030000       0.000000\n",
       "75%        33.000000      74.000000   20205.852500       0.000000\n",
       "max        45.000000      99.000000  693099.360000       1.000000"
      ]
     },
     "execution_count": 35,
     "metadata": {},
     "output_type": "execute_result"
    }
   ],
   "source": [
    "df = df.drop('Date',axis=1)\n",
    "df.describe()"
   ]
  },
  {
   "cell_type": "code",
   "execution_count": 42,
   "metadata": {
    "collapsed": false
   },
   "outputs": [
    {
     "ename": "MemoryError",
     "evalue": "",
     "output_type": "error",
     "traceback": [
      "\u001b[1;31m---------------------------------------------------------------------------\u001b[0m",
      "\u001b[1;31mMemoryError\u001b[0m                               Traceback (most recent call last)",
      "\u001b[1;32m<ipython-input-42-bfc6f0b105a4>\u001b[0m in \u001b[0;36m<module>\u001b[1;34m()\u001b[0m\n\u001b[0;32m      5\u001b[0m \u001b[1;33m\u001b[0m\u001b[0m\n\u001b[0;32m      6\u001b[0m \u001b[1;33m\u001b[0m\u001b[0m\n\u001b[1;32m----> 7\u001b[1;33m \u001b[0mZ\u001b[0m \u001b[1;33m=\u001b[0m \u001b[0mlinkage\u001b[0m\u001b[1;33m(\u001b[0m\u001b[0mdistance\u001b[0m\u001b[1;33m.\u001b[0m\u001b[0msquareform\u001b[0m\u001b[1;33m(\u001b[0m\u001b[0mdistance\u001b[0m\u001b[1;33m.\u001b[0m\u001b[0mpdist\u001b[0m\u001b[1;33m(\u001b[0m\u001b[0mdf\u001b[0m\u001b[1;33m,\u001b[0m \u001b[1;34m'euclidean'\u001b[0m\u001b[1;33m)\u001b[0m\u001b[1;33m)\u001b[0m\u001b[1;33m,\u001b[0m \u001b[1;34m'single'\u001b[0m\u001b[1;33m)\u001b[0m\u001b[1;33m\u001b[0m\u001b[0m\n\u001b[0m\u001b[0;32m      8\u001b[0m \u001b[0mplt\u001b[0m\u001b[1;33m.\u001b[0m\u001b[0mfigure\u001b[0m\u001b[1;33m(\u001b[0m\u001b[0mfigsize\u001b[0m\u001b[1;33m=\u001b[0m\u001b[1;33m(\u001b[0m\u001b[1;36m12\u001b[0m\u001b[1;33m,\u001b[0m \u001b[1;36m8\u001b[0m\u001b[1;33m)\u001b[0m\u001b[1;33m)\u001b[0m\u001b[1;33m\u001b[0m\u001b[0m\n\u001b[0;32m      9\u001b[0m \u001b[0mdendrogram\u001b[0m\u001b[1;33m(\u001b[0m\u001b[0mZ\u001b[0m\u001b[1;33m,\u001b[0m \u001b[0mleaf_font_size\u001b[0m\u001b[1;33m=\u001b[0m\u001b[1;36m14\u001b[0m\u001b[1;33m)\u001b[0m\u001b[1;33m\u001b[0m\u001b[0m\n",
      "\u001b[1;32mC:\\Anaconda3\\lib\\site-packages\\scipy\\spatial\\distance.py\u001b[0m in \u001b[0;36mpdist\u001b[1;34m(X, metric, p, w, V, VI)\u001b[0m\n\u001b[0;32m   1218\u001b[0m \u001b[1;33m\u001b[0m\u001b[0m\n\u001b[0;32m   1219\u001b[0m     \u001b[0mm\u001b[0m\u001b[1;33m,\u001b[0m \u001b[0mn\u001b[0m \u001b[1;33m=\u001b[0m \u001b[0ms\u001b[0m\u001b[1;33m\u001b[0m\u001b[0m\n\u001b[1;32m-> 1220\u001b[1;33m     \u001b[0mdm\u001b[0m \u001b[1;33m=\u001b[0m \u001b[0mnp\u001b[0m\u001b[1;33m.\u001b[0m\u001b[0mzeros\u001b[0m\u001b[1;33m(\u001b[0m\u001b[1;33m(\u001b[0m\u001b[0mm\u001b[0m \u001b[1;33m*\u001b[0m \u001b[1;33m(\u001b[0m\u001b[0mm\u001b[0m \u001b[1;33m-\u001b[0m \u001b[1;36m1\u001b[0m\u001b[1;33m)\u001b[0m\u001b[1;33m)\u001b[0m \u001b[1;33m//\u001b[0m \u001b[1;36m2\u001b[0m\u001b[1;33m,\u001b[0m \u001b[0mdtype\u001b[0m\u001b[1;33m=\u001b[0m\u001b[0mnp\u001b[0m\u001b[1;33m.\u001b[0m\u001b[0mdouble\u001b[0m\u001b[1;33m)\u001b[0m\u001b[1;33m\u001b[0m\u001b[0m\n\u001b[0m\u001b[0;32m   1221\u001b[0m \u001b[1;33m\u001b[0m\u001b[0m\n\u001b[0;32m   1222\u001b[0m     \u001b[0mwmink_names\u001b[0m \u001b[1;33m=\u001b[0m \u001b[1;33m[\u001b[0m\u001b[1;34m'wminkowski'\u001b[0m\u001b[1;33m,\u001b[0m \u001b[1;34m'wmi'\u001b[0m\u001b[1;33m,\u001b[0m \u001b[1;34m'wm'\u001b[0m\u001b[1;33m,\u001b[0m \u001b[1;34m'wpnorm'\u001b[0m\u001b[1;33m]\u001b[0m\u001b[1;33m\u001b[0m\u001b[0m\n",
      "\u001b[1;31mMemoryError\u001b[0m: "
     ]
    }
   ],
   "source": [
    "from matplotlib import pyplot as plt\n",
    "from scipy.cluster.hierarchy import dendrogram, linkage\n",
    "%matplotlib inline\n",
    "from scipy.spatial import distance\n",
    "\n",
    "\n",
    "Z = linkage(distance.squareform(distance.pdist(df, 'euclidean')), 'centroid')\n",
    "plt.figure(figsize=(12, 8))\n",
    "dendrogram(Z, leaf_font_size=14)\n",
    "plt.show()"
   ]
  },
  {
   "cell_type": "code",
   "execution_count": null,
   "metadata": {
    "collapsed": true
   },
   "outputs": [],
   "source": [
    "Falta analizar el dendograma para calcular los centroides."
   ]
  },
  {
   "cell_type": "code",
   "execution_count": null,
   "metadata": {
    "collapsed": true
   },
   "outputs": [],
   "source": [
    "Ahora se desarrolla el algoritmo de ISODATA"
   ]
  },
  {
   "cell_type": "code",
   "execution_count": null,
   "metadata": {
    "collapsed": true
   },
   "outputs": [],
   "source": []
  }
 ],
 "metadata": {
  "anaconda-cloud": {},
  "kernelspec": {
   "display_name": "Python [Root]",
   "language": "python",
   "name": "Python [Root]"
  },
  "language_info": {
   "codemirror_mode": {
    "name": "ipython",
    "version": 3
   },
   "file_extension": ".py",
   "mimetype": "text/x-python",
   "name": "python",
   "nbconvert_exporter": "python",
   "pygments_lexer": "ipython3",
   "version": "3.5.2"
  }
 },
 "nbformat": 4,
 "nbformat_minor": 0
}
